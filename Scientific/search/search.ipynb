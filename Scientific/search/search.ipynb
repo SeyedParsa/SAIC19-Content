{
 "cells": [
  {
   "cell_type": "markdown",
   "metadata": {},
   "source": [
    "<div style=\"direction:rtl;line-height:300%;\">\n",
    "\t<font face=\"XB Zar\" size=5>\n",
    "\t\t<div align=center>\n",
    "\t\t\t<font face=\"XB Niloofar\" size=30>\n",
    "\t\t\t\t<p></p>\n",
    "\t\t\t\t<p></p>\n",
    "به نام خدا\n",
    "\t\t\t\t<p></p>\n",
    "\t\t\t</font>\n",
    "\t\t\t<font color=#FF7500>\n",
    "دانشگاه صنعتی شریف - دانشکده مهندسی کامپیوتر\n",
    "            </font>\n",
    "\t\t\t<p></p>\n",
    "\t\t\t<br />\n",
    "\t\t\t<br />\n",
    "زمستان ۱۳۹۷\n",
    "\t\t</div>\n",
    "\t\t<hr/>\n",
    "\t\t<font color=red size=6>\n",
    "\t\t\t<br />\n",
    "\t\t\t<div align=center>\n",
    "                هوش مصنوعی\n",
    "            </div>\n",
    "\t\t</font>\n",
    "\t\t<br />\n",
    "\t\t<div align=center>\n",
    "محمدرضا کارگر و علی شفیعی\n",
    "        </div>\n",
    "\t\t<hr />\n",
    "\t\t<style type=\"text/css\" scoped>\n",
    "        p{\n",
    "        border: 1px solid #a2a9b1;background-color: #f8f9fa;display: inline-block;\n",
    "        };\n",
    "        </style>\n",
    "\t\t<div>\n",
    "\t\t\t<h3>فهرست مطالب</h3>\n",
    "\t\t\t<ul style=\"margin-right: 0;\">\n",
    "                <li>\n",
    "\t\t\t\t\t<a href=\"#search\">\n",
    "                        جستجو در گراف\n",
    "                    </a>\n",
    "\t\t\t\t</li>\n",
    "                <li>\n",
    "\t\t\t\t\t<a href=\"#local\">\n",
    "                    جستجوی محلی\n",
    "                    </a>\n",
    "\t\t\t\t</li>\n",
    "                <li>\n",
    "\t\t\t\t\t<a href=\"#packman\">\n",
    "                    بازی پک‌من\n",
    "                    </a>\n",
    "\t\t\t\t</li>\n",
    "        </div>\n",
    "\t</font>\n",
    "</div>"
   ]
  },
  {
   "cell_type": "markdown",
   "metadata": {},
   "source": [
    "<p></p>\n",
    "<br />\n",
    "<div id=\"what\" style=\"direction:rtl;line-height:300%;\">\n",
    "\t<font face=\"XB Zar\" size=5>\n",
    "\t\t<font color=#FF7500 size=6>\n",
    "جستجو در گراف\n",
    "        </font>\n",
    "        <p></p>\n",
    "        با سلام بر تمام عزیزان شنونده‌ی این داستان\n",
    "\t</font>\n",
    "</div>"
   ]
  },
  {
   "cell_type": "code",
   "execution_count": 2,
   "metadata": {},
   "outputs": [],
   "source": [
    "#you should have arcade installed via pip install arcade(requires python3.7)\n",
    "from game import main\n",
    "import random"
   ]
  },
  {
   "cell_type": "code",
   "execution_count": 3,
   "metadata": {},
   "outputs": [],
   "source": [
    "#write your logic here\n",
    "def agent_logic(px, py):\n",
    "    x = px+1\n",
    "    y = py+2\n",
    "    return(x,y)"
   ]
  },
  {
   "cell_type": "code",
   "execution_count": 4,
   "metadata": {},
   "outputs": [],
   "source": [
    "main(agent_logic)"
   ]
  },
  {
   "cell_type": "markdown",
   "metadata": {},
   "source": [
    "<p></p>\n",
    "<br />\n",
    "<div id=\"how\" style=\"direction:rtl;line-height:300%;\">\n",
    "\t<font face=\"XB Zar\" size=5>\n",
    "\t\t<font color=#FF7500 size=6>\n",
    "جستجوی محلی\n",
    "        </font>\n",
    "\t\t<p></p>\n",
    "\t\t<hr>\n",
    "همانطور که مشاهده می‌کنید می‌توانید مثل لاتکس اینطوری بنویسید:\n",
    "        $x+1 = 4$\n",
    "\t</font>\n",
    "</div>"
   ]
  },
  {
   "cell_type": "markdown",
   "metadata": {},
   "source": [
    "<p></p>\n",
    "<br />\n",
    "<div id=\"how\" style=\"direction:rtl;line-height:300%;\">\n",
    "\t<font face=\"XB Zar\" size=5>\n",
    "\t\t<font color=#FF7500 size=6>\n",
    "الگوریتم ژنتیک\n",
    "        </font>\n",
    "\t\t<p></p>\n",
    "\t\t<hr>\n",
    "الگوریتم‌های ژنتیک الهام‌گرفته‌شده از تکامل و انتخاب طبیعی در طبیعت بوده و به خصوص برای مسائلی بهینه‌سازی و جستجو با فضای حالت بزرگ کاربردی هستند.<br>\n",
    "        همان طور که گفته شد، در مسائل جستجوی محلی هدف اصلی ما پیدا کردن یک جواب برای مسئله و نه لزوما راه رسیدن به آن است. در الگوریتم‌های ژنتیک، یک جمعیت (population) از جواب‌های ممکن داریم که یک راه حل احتمالی را نشان می‌دهند. در هر دور (iteration/generation) با استفاده از تکنیک‌هایی، این جمعیت به روزرسانی می‌شود.<br>\n",
    "        می‌توان مراحل این الگوریتم‌ها را به چند گام زیر خلاصه کرد:\n",
    "        ۱-ایجاد یک جمعیت اولیه به طور تصادفی\n",
    "        ۲-محاسبه‌ی امتیاز (fitness) هر یک از اعضای جمعیت.\n",
    "        ۳-انتخاب تعدادی از جواب‌ها برای ترکیب و تولید نسل جدید\n",
    "        ۴-ترکیب جواب‌های انتخاب شده و افزودن نتیجه به جمعیت\n",
    "        ۵-تکرار از گام ۲، تا زمانی که به یک جواب مناسب رسیده یا الگوریتم به تعداد دفعات مشخصی تکرار شده است.<br>\n",
    "        در ابتدا لازم است که با دو اصطلاح کلیدی در این الگوریتم‌ها آشنا شویم:\n",
    "        ۱-ترکیب (crossover): همان طور که گفتیم در هر گام از الگوریتم، دو تا از جواب‌های موجود در جمعیت را با یک‌دیگر ترکیب کرده و جواب جدید ایجاد می‌کنیم. با این کار فرزندی تولید شده که ترکیبی از ویژگی‌های والیدنش را داشته و این کار به روش‌های مختلف و با توجه به مسئله می‌تواند انجام شود.\n",
    "        ۲-جهش (mutation): پس از ترکیب والدین و تولید جواب جدید، به احتمال کمی این جواب یک جهش خواهد داشت. به این معنی که یکی از ژن‌هایش تغییر کرده و به جواب جدیدی تبدیل می‌شود. این کار برای کم کردن احتمال گیر کردن در کمینه‌ی محلی انجام می‌دهیم.<br>\n",
    "        ۳-انتخاب (selection): در هر گام، لازم است که تعدادی از بهترین اعضای جمعیت را برای ترکیب انتخاب کنیم. در ابتدا میزان شایستگی هر یک از جواب‌ها را با استفاده از تابعی به نام fitness function سنجیده و سپس تعداد از جواب‌ها را به صورت تصادفی انتخاب می‌کنیم. با توجه به این که هرچه امتیاز شایستگی یک جواب بیشتر باشد، جواب بهتری فرض می‌شود، احتمال انتخاب شدن هر یک جواب‌ها با افزایش شایستگی‌اش بیشتر می‌شود. یک راه معمول برای مشخص کردن احتمال انتخاب شدن یک جواب به صورت زیر است:\n",
    "        $$chance(i) = \\frac{fitness(i)}{\\sum_{k \\in P}fitness(k)}$$\n",
    "        مشاهده می‌شود که جواب‌های با بیشترین مقدار fitness function، بیشترین شانس برای انتخاب شدن را دارند.\n",
    "    </font>\n",
    "</div>"
   ]
  },
  {
   "cell_type": "code",
   "execution_count": null,
   "metadata": {},
   "outputs": [],
   "source": []
  },
  {
   "cell_type": "markdown",
   "metadata": {},
   "source": [
    "<p></p>\n",
    "<br />\n",
    "<div id=\"packman\" style=\"direction:rtl;line-height:300%;\">\n",
    "\t<font face=\"XB Zar\" size=5>\n",
    "\t\t<font color=#FF7500 size=6>\n",
    "پک من\n",
    "        </font>\n",
    "\t\t<p></p>\n",
    "\t\t<hr>\n",
    "        اینگونه می‌شود عکس هم قرار داد:\n",
    "        <img src = \"images/character.png\" style=\"width:30%\">\n",
    "\t</font>\n",
    "</div>"
   ]
  },
  {
   "cell_type": "markdown",
   "metadata": {},
   "source": [
    "<p></p>\n",
    "<br/>\n",
    "<div id=\"sec_refs\" style=\"direction:rtl;line-height:300%;\">\n",
    "\t<font face=\"XB Zar\" size=5>\n",
    "\t\t<font color=#FF7500 size=6>\n",
    "منابع\n",
    "        </font>\n",
    "\t\t<hr>       \n",
    "        <ul>\n",
    "            <li>\n",
    "           کتاب ترکیبیات، علیرضا علیپور، انتشارات فاطمی\n",
    "            </li>\n",
    "            <li>\n",
    "www.briliant.com            \n",
    "            </li>\n",
    "            <li>\n",
    "http://www-users.math.umn.edu/~reiner/Classes/Four_Proofs_of_Ballot_Theorem.pdf\n",
    "            </li>\n",
    "        </ul>\n",
    "\t</font>\n",
    "</div>"
   ]
  }
 ],
 "metadata": {
  "kernelspec": {
   "display_name": "Python 3",
   "language": "python",
   "name": "python3"
  },
  "language_info": {
   "codemirror_mode": {
    "name": "ipython",
    "version": 3
   },
   "file_extension": ".py",
   "mimetype": "text/x-python",
   "name": "python",
   "nbconvert_exporter": "python",
   "pygments_lexer": "ipython3",
   "version": "3.7.0"
  },
  "latex_envs": {
   "LaTeX_envs_menu_present": true,
   "autoclose": false,
   "autocomplete": true,
   "bibliofile": "biblio.bib",
   "cite_by": "apalike",
   "current_citInitial": 1,
   "eqLabelWithNumbers": true,
   "eqNumInitial": 1,
   "hotkeys": {
    "equation": "Ctrl-E",
    "itemize": "Ctrl-I"
   },
   "labels_anchors": false,
   "latex_user_defs": false,
   "report_style_numbering": false,
   "user_envs_cfg": false
  },
  "toc": {
   "base_numbering": 1,
   "nav_menu": {},
   "number_sections": true,
   "sideBar": true,
   "skip_h1_title": false,
   "title_cell": "Table of Contents",
   "title_sidebar": "Contents",
   "toc_cell": false,
   "toc_position": {},
   "toc_section_display": true,
   "toc_window_display": false
  },
  "varInspector": {
   "cols": {
    "lenName": 16,
    "lenType": 16,
    "lenVar": 40
   },
   "kernels_config": {
    "python": {
     "delete_cmd_postfix": "",
     "delete_cmd_prefix": "del ",
     "library": "var_list.py",
     "varRefreshCmd": "print(var_dic_list())"
    },
    "r": {
     "delete_cmd_postfix": ") ",
     "delete_cmd_prefix": "rm(",
     "library": "var_list.r",
     "varRefreshCmd": "cat(var_dic_list()) "
    }
   },
   "types_to_exclude": [
    "module",
    "function",
    "builtin_function_or_method",
    "instance",
    "_Feature"
   ],
   "window_display": false
  }
 },
 "nbformat": 4,
 "nbformat_minor": 1
}
