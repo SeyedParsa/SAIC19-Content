{
 "cells": [
  {
   "cell_type": "markdown",
   "metadata": {},
   "source": [
    "<div style=\"direction:rtl;line-height:300%;\">\n",
    "\t<font face=\"XB Zar\" size=5>\n",
    "\t\t<div align=center>\n",
    "\t\t\t<font face=\"XB Niloofar\" size=30>\n",
    "\t\t\t\t<p></p>\n",
    "\t\t\t\t<p></p>\n",
    "به نام خدا\n",
    "\t\t\t\t<p></p>\n",
    "\t\t\t</font>\n",
    "\t\t\t<font color=#FF7500>\n",
    "دانشگاه صنعتی شریف - دانشکده مهندسی کامپیوتر\n",
    "            </font>\n",
    "\t\t\t<p></p>\n",
    "\t\t\t<br />\n",
    "\t\t\t<br />\n",
    "زمستان ۱۳۹۷\n",
    "\t\t</div>\n",
    "\t\t<hr/>\n",
    "\t\t<font color=red size=6>\n",
    "\t\t\t<br />\n",
    "\t\t\t<div align=center>\n",
    "                هوش مصنوعی\n",
    "            </div>\n",
    "\t\t</font>\n",
    "\t\t<br />\n",
    "\t\t<div align=center>\n",
    "محمدرضا کارگر و علی شفیعی\n",
    "        </div>\n",
    "\t\t<hr />\n",
    "\t\t<style type=\"text/css\" scoped>\n",
    "        p{\n",
    "        border: 1px solid #a2a9b1;background-color: #f8f9fa;display: inline-block;\n",
    "        };\n",
    "        </style>\n",
    "\t\t<div>\n",
    "\t\t\t<h3>فهرست مطالب</h3>\n",
    "\t\t\t<ul style=\"margin-right: 0;\">\n",
    "                <li>\n",
    "\t\t\t\t\t<a href=\"#search\">\n",
    "                        جستجو در گراف\n",
    "                    </a>\n",
    "\t\t\t\t</li>\n",
    "                <li>\n",
    "\t\t\t\t\t<a href=\"#dfs\">\n",
    "                    جستجوی عمق اول\n",
    "                    </a>\n",
    "\t\t\t\t</li>\n",
    "                 <li>\n",
    "\t\t\t\t\t<a href=\"#Informed Search\">\n",
    "                    الگوریتم های مطلع\n",
    "                    </a>\n",
    "\t\t\t\t</li>\n",
    "                <li>\n",
    "\t\t\t\t\t<a href=\"#A*\">\n",
    "                    الگوریتم $A^*$\n",
    "                    </a>\n",
    "\t\t\t\t</li>\n",
    "                <li>\n",
    "\t\t\t\t\t<a href=\"#local\">\n",
    "                    جستجوی محلی\n",
    "                    </a>\n",
    "\t\t\t\t</li>\n",
    "                <li>\n",
    "\t\t\t\t\t<a href=\"#packman\">\n",
    "                    بازی پک‌من\n",
    "                    </a>\n",
    "\t\t\t\t</li>\n",
    "        </div>\n",
    "\t</font>\n",
    "</div>"
   ]
  },
  {
   "cell_type": "markdown",
   "metadata": {},
   "source": [
    "<p></p>\n",
    "<br />\n",
    "<div id=\"what\" style=\"direction:rtl;line-height:300%;\">\n",
    "\t<font face=\"XB Zar\" size=5>\n",
    "\t\t<font color=#FF7500 size=6>\n",
    "جستجو در گراف (Graph Search)\n",
    "        </font>\n",
    "        <p></p>\n",
    "    الگوریتم های جست و جو در گراف مهم ترین و پایه ای ترین الگوریتم ها در هوش مصنوعی هستند. و همه آن ها برای مسئله های هوش مصنوعی یک گراف می سازند که هر راس آن نمایشگر که یک وضعیت (state) از بازی مورد نظر ماست و از یک راس به یک راس دیگر یال می گذاریم اگر بتوان با انجام یک عملیات از این وضعیت به آن وضعیت رسید.<br>\n",
    "    حال ما در این گراف یک وضعیت اولیه داریم و هدفمان این است که با انجام تعدادی عملیات به یک وضعیت برد برسیم. و این جاست که الگوریتم های سرچ وارد کار می شوند و به ما برای پیدا کردن این دنباله از عملیات ها کمک می کنند.<br>\n",
    "        می توان از الگوریتم های Search به DFS , BFS, Bidirectional search, Depth-limited-search اشاره کرد که ما در این جا DFS را که نسبت به بقیه  توضیح داده و خواندن بقیه را به خواننده واگذار می کنیم.\n",
    "    </font>\n",
    "</div>"
   ]
  },
  {
   "cell_type": "markdown",
   "metadata": {},
   "source": [
    "<p></p>\n",
    "<br />\n",
    "<div id=\"dfs\" style=\"direction:rtl;line-height:300%;\">\n",
    "\t<font face=\"XB Zar\" size=5>\n",
    "\t\t<font color=#FF7500 size=6>\n",
    "جستجو عمق اول DFS\n",
    "        </font>\n",
    "        <p></p>\n",
    "        می توان گفت یکی از پایه ترین الگوریتم های سرچ در گراف الگوریتم جست و جوی عمق اول (DFS) می باشد. که نحوه کار کردن آن به شکل زیر است :<br>\n",
    "        در هر لحظه از زمان ما یک مسیر از ریشه به یک راس مانند $v$ داریم و یک مجموعه $s$ از راس هایی که قبلا دیده شده اند. حال در هر مرحله اگر یک همسایه $v$ مانند $u$ وجود داشت که در $s$ نبود ما $u$ را به مسیر اضافه می کنیم و آن را درون مجموعه $s$ قرار می  دهیم. در غیر این صورت تمام همسایه های $v$ در $s$ آمده اند پس با ادامه دادن این مسیر نمی توانیم به یک راس هدف برسیم و $v$ را از انتهای مسیر حذف می کنیم و الگوریتم را ادامه می دهیم. که شبه کد آن هم به شکل زیر می باشد :   \n",
    "    </font>\n",
    "</div>"
   ]
  },
  {
   "cell_type": "code",
   "execution_count": 4,
   "metadata": {},
   "outputs": [],
   "source": [
    "def dfs(v):\n",
    "    if goal[v]:\n",
    "        print(path)\n",
    "        return\n",
    "    if mark[v]:\n",
    "        return\n",
    "    mark[v] = true\n",
    "    for u in adj[v]:\n",
    "        path.append(u)\n",
    "        dfs(u)\n",
    "        path.remove(u);"
   ]
  },
  {
   "cell_type": "markdown",
   "metadata": {},
   "source": [
    "<p></p>\n",
    "<br />\n",
    "<div id=\"Informed Search\" style=\"direction:rtl;line-height:300%;\">\n",
    "\t<font face=\"XB Zar\" size=5>\n",
    "\t\t<font color=#FF7500 size=6>\n",
    "  الگوریتم های مطلع (Informed Search)\n",
    "        </font>\n",
    "        <p></p>\n",
    "         شیوه کلی کار این الگوریتم ها بدین گونه است که با توجه به اطلاعاتی که از مسئله داریم برای هر وضعیت از بازی مانند $v$ یک تابع $h(v)$ تعریف می کنند که فاصله حدودی تا رسیدن به یکی از وضعیت های هدف می باشد.<br>\n",
    "        حال ما هر چه قدر بتوانیم این تابع $h$  را بهتر تخمین بزنیم می توانیم مسئله را هم بهتر حل کنیم.\n",
    "        برای مثال فرض کنید یک کشور داریم که از تعدادی شهر و جاده تشکیل شده است و ما می خواهیم کم ترین فاصله از یک شهر دلخواه را با یکی از شهر هایی که دارای پمب بنزین است به دست آوریم. ما می توانیم تابع $h(v)$ را بدین شکل تعریف کنیم که برابر کم ترین فاصله اقلیدسی شهر $v$ و یکی از شهر های داری پمپ بنزین باشد.<br>\n",
    "        حال یه الگوریتم خوب با توجه به این تابع این است که ما در هر لحظه از زمان وارد راسی شویم که دارای کم ترین مقدار فاصله تقریبی می باشد و این کار را تا جایی ادامه دهیم که به یک شهر دارای پمپ بنزین برسیم.\n",
    "        که این الگوریتم یک مسیر تقربیا کوتاه به یک شهر داری پمپ بنزین می دهد. البته توجه کنید که این مسیر لزوما کوتاه ترین مسیر نمی باشد.\n",
    "    </font>\n",
    "</div>"
   ]
  },
  {
   "cell_type": "markdown",
   "metadata": {},
   "source": [
    "<p></p>\n",
    "<br />\n",
    "<div id=\"A*\" style=\"direction:rtl;line-height:300%;\">\n",
    "\t<font face=\"XB Zar\" size=5>\n",
    "\t\t<font color=#FF7500 size=6>\n",
    "الگوریتم $A^*$\n",
    "        </font>\n",
    "        <p></p>\n",
    "        فرض کنید که $h^*(v)$ فاصله حقیقی راس v از هدف باشد\n",
    "        و h که در بخش بالا معرفی کردیم دو ویژگی زیر را داشته باشد :<br>\n",
    "        ۱ - به ازای هر v، $h(v) \\le h^*(v)$ برقرار باشد. <br> \n",
    "        ۲ - به ازای هر راس v و هر یالی که از v خارج می شود و طول c دارد و به راس u می رود داشته باشیم : $h^*(v) \\le c + h^*(u)$ <br>\n",
    "        حال الگوریتم $A^*$ به شکل زیر کار می کند:  <br>\n",
    "        در هر مرحله از زمان ما تابع $g$ را به ازای هر راس به شکل زیر تعریف می کنیم : $g(v) = h(v) + f(v)$ که در آن $f(v)$ هزینه کوتاه ترین مسیری است که تا به حال به راس $v$ پیدا کرده ایم. حال در هر مرحله از زمان راسی که تابع $g$ در آن کم ترین مقدار را دارد در نظر می گیریم و فاصله اصلی این راس را برابر $g$ قرار می دهیم و تابع $f$ را برای همسایه های $v$ دوباره حساب می کنیم و این روند را تا زمانی که تمام فاصله ها حساب شوند ادامه می دهیم.<br>\n",
    "        می توان اثبات کرد که این الگوریتم همیشه به ازای هر راس کوتاه ترین فاصله را به دست می آورد که اثبات آن را به خواننده واگذار می کنیم.<br>\n",
    "        حال به بررسی کاربرد های این الگوریتم می پردازیم و برای تست کردن این الگوریتم آن را روی مسئله قرار دادن $n$ وزیر روی صفحه شظرنج به طوری که هیچ کدام از آن ها یک دیگر را تهدید نکنند بررسی می کنیم. و می بینیم که تا چه مقداری از $n$ را می توانیم در زمان معقول با استفاده از این الگوریتم محاسبه کنیم. و آن را با الگوریتم های قبلی مقایسه می کنیم. \n",
    "    </font>\n",
    "</div>"
   ]
  },
  {
   "cell_type": "code",
   "execution_count": 1,
   "metadata": {},
   "outputs": [
    {
     "ename": "SyntaxError",
     "evalue": "invalid syntax (<ipython-input-1-cbe0a8ccb6a8>, line 1)",
     "output_type": "error",
     "traceback": [
      "\u001b[0;36m  File \u001b[0;32m\"<ipython-input-1-cbe0a8ccb6a8>\"\u001b[0;36m, line \u001b[0;32m1\u001b[0m\n\u001b[0;31m    //inputing graph\u001b[0m\n\u001b[0m     ^\u001b[0m\n\u001b[0;31mSyntaxError\u001b[0m\u001b[0;31m:\u001b[0m invalid syntax\n"
     ]
    }
   ],
   "source": [
    "//inputing graph\n",
    "\n",
    "//calculating h function\n",
    "\n",
    "for i in range(n):\n",
    "    mn = -1\n",
    "    for v in range(n):\n",
    "        if !mark[v] and g[v] < g[mn]:\n",
    "            mn = v\n",
    "    dis[mn] = g[mn]\n",
    "    for v, c in adj[mn]:\n",
    "        f[v] = min(f[v], dis[mn] + c)\n",
    "        g[v] = h[v] + f[v]"
   ]
  },
  {
   "cell_type": "markdown",
   "metadata": {},
   "source": [
    "<p></p>\n",
    "<br />\n",
    "<div id=\"how\" style=\"direction:rtl;line-height:300%;\">\n",
    "\t<font face=\"XB Zar\" size=5>\n",
    "\t\t<font color=#FF7500 size=6>\n",
    "جستجوی محلی\n",
    "        </font>\n",
    "\t\t<p></p>\n",
    "\t\t<hr>\n",
    "همانطور که مشاهده می‌کنید می‌توانید مثل لاتکس اینطوری بنویسید:\n",
    "        $x+1 = 4$\n",
    "\t</font>\n",
    "</div>"
   ]
  },
  {
   "cell_type": "markdown",
   "metadata": {},
   "source": [
    "<p></p>\n",
    "<br />\n",
    "<div id=\"how\" style=\"direction:rtl;line-height:300%;\">\n",
    "\t<font face=\"XB Zar\" size=5>\n",
    "\t\t<font color=#FF7500 size=6>\n",
    "الگوریتم ژنتیک\n",
    "        </font>\n",
    "\t\t<p></p>\n",
    "\t\t<hr>\n",
    "الگوریتم‌های ژنتیک الهام‌گرفته‌شده از تکامل و انتخاب طبیعی در طبیعت بوده و به خصوص برای مسائلی بهینه‌سازی و جستجو با فضای حالت بزرگ کاربردی هستند.<br>\n",
    "        همان طور که گفته شد، در مسائل جستجوی محلی هدف اصلی ما پیدا کردن یک جواب برای مسئله و نه لزوما راه رسیدن به آن است. در الگوریتم‌های ژنتیک، یک جمعیت (population) از جواب‌های ممکن داریم که یک راه حل احتمالی را نشان می‌دهند. در هر دور (iteration/generation) با استفاده از تکنیک‌هایی، این جمعیت به روزرسانی می‌شود.<br>\n",
    "        می‌توان مراحل این الگوریتم‌ها را به چند گام زیر خلاصه کرد:\n",
    "        ۱-ایجاد یک جمعیت اولیه به طور تصادفی\n",
    "        ۲-محاسبه‌ی امتیاز (fitness) هر یک از اعضای جمعیت.\n",
    "        ۳-انتخاب تعدادی از جواب‌ها برای ترکیب و تولید نسل جدید\n",
    "        ۴-ترکیب جواب‌های انتخاب شده و افزودن نتیجه به جمعیت\n",
    "        ۵-تکرار از گام ۲، تا زمانی که به یک جواب مناسب رسیده یا الگوریتم به تعداد دفعات مشخصی تکرار شده است.<br>\n",
    "        در ابتدا لازم است که با دو اصطلاح کلیدی در این الگوریتم‌ها آشنا شویم:\n",
    "        ۱-ترکیب (crossover): همان طور که گفتیم در هر گام از الگوریتم، دو تا از جواب‌های موجود در جمعیت را با یک‌دیگر ترکیب کرده و جواب جدید ایجاد می‌کنیم. با این کار فرزندی تولید شده که ترکیبی از ویژگی‌های والیدنش را داشته و این کار به روش‌های مختلف و با توجه به مسئله می‌تواند انجام شود.\n",
    "        ۲-جهش (mutation): پس از ترکیب والدین و تولید جواب جدید، به احتمال کمی این جواب یک جهش خواهد داشت. به این معنی که یکی از ژن‌هایش تغییر کرده و به جواب جدیدی تبدیل می‌شود. این کار برای کم کردن احتمال گیر کردن در کمینه‌ی محلی انجام می‌دهیم.<br>\n",
    "        ۳-انتخاب (selection): در هر گام، لازم است که تعدادی از بهترین اعضای جمعیت را برای ترکیب انتخاب کنیم. در ابتدا میزان شایستگی هر یک از جواب‌ها را با استفاده از تابعی به نام fitness function سنجیده و سپس تعداد از جواب‌ها را به صورت تصادفی انتخاب می‌کنیم. با توجه به این که هرچه امتیاز شایستگی یک جواب بیشتر باشد، جواب بهتری فرض می‌شود، احتمال انتخاب شدن هر یک جواب‌ها با افزایش شایستگی‌اش بیشتر می‌شود. یک راه معمول برای مشخص کردن احتمال انتخاب شدن یک جواب به صورت زیر است:\n",
    "        $$chance(i) = \\frac{fitness(i)}{\\sum_{k \\in P}fitness(k)}$$\n",
    "        مشاهده می‌شود که جواب‌های با بیشترین مقدار fitness function، بیشترین شانس برای انتخاب شدن را دارند.\n",
    "    </font>\n",
    "</div>"
   ]
  },
  {
   "cell_type": "code",
   "execution_count": null,
   "metadata": {},
   "outputs": [],
   "source": []
  },
  {
   "cell_type": "markdown",
   "metadata": {},
   "source": [
    "<p></p>\n",
    "<br />\n",
    "<div id=\"packman\" style=\"direction:rtl;line-height:300%;\">\n",
    "\t<font face=\"XB Zar\" size=5>\n",
    "\t\t<font color=#FF7500 size=6>\n",
    "پک من\n",
    "        </font>\n",
    "\t\t<p></p>\n",
    "\t\t<hr>\n",
    "        اینگونه می‌شود عکس هم قرار داد:\n",
    "        <img src = \"images/character.png\" style=\"width:30%\">\n",
    "\t</font>\n",
    "</div>"
   ]
  },
  {
   "cell_type": "markdown",
   "metadata": {},
   "source": [
    "<p></p>\n",
    "<br/>\n",
    "<div id=\"sec_refs\" style=\"direction:rtl;line-height:300%;\">\n",
    "\t<font face=\"XB Zar\" size=5>\n",
    "\t\t<font color=#FF7500 size=6>\n",
    "منابع\n",
    "        </font>\n",
    "\t\t<hr>       \n",
    "        <ul>\n",
    "            <li>\n",
    "           کتاب ترکیبیات، علیرضا علیپور، انتشارات فاطمی\n",
    "            </li>\n",
    "            <li>\n",
    "www.briliant.com            \n",
    "            </li>\n",
    "            <li>\n",
    "http://www-users.math.umn.edu/~reiner/Classes/Four_Proofs_of_Ballot_Theorem.pdf\n",
    "            </li>\n",
    "        </ul>\n",
    "\t</font>\n",
    "</div>"
   ]
  }
 ],
 "metadata": {
  "kernelspec": {
   "display_name": "Python 3",
   "language": "python",
   "name": "python3"
  },
  "language_info": {
   "codemirror_mode": {
    "name": "ipython",
    "version": 3
   },
   "file_extension": ".py",
   "mimetype": "text/x-python",
   "name": "python",
   "nbconvert_exporter": "python",
   "pygments_lexer": "ipython3",
   "version": "3.6.7"
  },
  "latex_envs": {
   "LaTeX_envs_menu_present": true,
   "autoclose": false,
   "autocomplete": true,
   "bibliofile": "biblio.bib",
   "cite_by": "apalike",
   "current_citInitial": 1,
   "eqLabelWithNumbers": true,
   "eqNumInitial": 1,
   "hotkeys": {
    "equation": "Ctrl-E",
    "itemize": "Ctrl-I"
   },
   "labels_anchors": false,
   "latex_user_defs": false,
   "report_style_numbering": false,
   "user_envs_cfg": false
  },
  "toc": {
   "base_numbering": 1,
   "nav_menu": {},
   "number_sections": true,
   "sideBar": true,
   "skip_h1_title": false,
   "title_cell": "Table of Contents",
   "title_sidebar": "Contents",
   "toc_cell": false,
   "toc_position": {},
   "toc_section_display": true,
   "toc_window_display": false
  },
  "varInspector": {
   "cols": {
    "lenName": 16,
    "lenType": 16,
    "lenVar": 40
   },
   "kernels_config": {
    "python": {
     "delete_cmd_postfix": "",
     "delete_cmd_prefix": "del ",
     "library": "var_list.py",
     "varRefreshCmd": "print(var_dic_list())"
    },
    "r": {
     "delete_cmd_postfix": ") ",
     "delete_cmd_prefix": "rm(",
     "library": "var_list.r",
     "varRefreshCmd": "cat(var_dic_list()) "
    }
   },
   "types_to_exclude": [
    "module",
    "function",
    "builtin_function_or_method",
    "instance",
    "_Feature"
   ],
   "window_display": false
  }
 },
 "nbformat": 4,
 "nbformat_minor": 1
}
